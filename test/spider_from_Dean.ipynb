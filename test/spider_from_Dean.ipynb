{
 "cells": [
  {
   "cell_type": "code",
   "execution_count": 11,
   "metadata": {},
   "outputs": [],
   "source": [
    "import os\n",
    "import time\n",
    "import urllib.request\n",
    "import json\n",
    "import zipfile\n",
    "from datetime import datetime, timedelta"
   ]
  },
  {
   "cell_type": "code",
   "execution_count": 7,
   "metadata": {},
   "outputs": [],
   "source": [
    "with open('/Users/tedting/Documents/FactorTradingSystem/data_center/config/full_futures_symbol_list.json') as f:\n",
    "    futures_symbol_list = json.loads(f.read())"
   ]
  },
  {
   "cell_type": "code",
   "execution_count": 5,
   "metadata": {},
   "outputs": [],
   "source": [
    "def download_klines_data(symbol, date, data_dir, file_period, bar_interval):\n",
    "    # Create the directories if they do not exist\n",
    "    bar_interval_path = os.path.join(data_dir, bar_interval)\n",
    "    os.makedirs(bar_interval_path, exist_ok=True)\n",
    "    \n",
    "    path = os.path.join(bar_interval_path, symbol)\n",
    "    os.makedirs(path, exist_ok=True)\n",
    "    \n",
    "    base_url = f\"https://data.binance.vision/data/futures/um/{file_period}/klines/{symbol}/{bar_interval}/\"\n",
    "    file_name = f\"{symbol}-{bar_interval}-{date}.zip\"\n",
    "    \n",
    "    # It's safer to concatenate URL paths using '/' directly for URLs\n",
    "    url = f\"{base_url}{file_name}\"\n",
    "\n",
    "    file_path = os.path.join(path, file_name)\n",
    "    \n",
    "    try:\n",
    "        # Using urlretrieve to download the file\n",
    "        urllib.request.urlretrieve(url, file_path)\n",
    "        print(f\"Successfully downloaded to {file_path}\")\n",
    "\n",
    "        # Unzipping the file\n",
    "        with zipfile.ZipFile(file_path, 'r') as zip_ref:\n",
    "            zip_ref.extractall(path)  # Extract all contents to the path directory\n",
    "            print(f\"Successfully extracted {file_name} to {path}\")\n",
    "\n",
    "        # Delete the zip file after extracting its contents\n",
    "        os.remove(file_path)\n",
    "        print(f\"Successfully deleted the zip file: {file_path}\")\n",
    "\n",
    "    except urllib.error.HTTPError as e:\n",
    "        # Specific error handling for HTTP errors\n",
    "        if e.code == 404:\n",
    "            print(f\"The file {file_name} was not found on the server.\")\n",
    "        else:\n",
    "            print(f\"HTTP Error {e.code}: {e.reason}\")\n",
    "    except zipfile.BadZipFile:\n",
    "        print(f\"The file {file_name} is not a valid zip file.\")\n",
    "    except Exception as e:\n",
    "        print(f\"Failed to download, extract, or delete {symbol} data for {date}: {e}\")\n",
    "\n",
    "\n"
   ]
  },
  {
   "cell_type": "code",
   "execution_count": 24,
   "metadata": {},
   "outputs": [
    {
     "ename": "AttributeError",
     "evalue": "type object 'datetime.datetime' has no attribute 'datetime'",
     "output_type": "error",
     "traceback": [
      "\u001b[0;31m---------------------------------------------------------------------------\u001b[0m",
      "\u001b[0;31mAttributeError\u001b[0m                            Traceback (most recent call last)",
      "Cell \u001b[0;32mIn[24], line 7\u001b[0m\n\u001b[1;32m      5\u001b[0m \u001b[38;5;28;01mfor\u001b[39;00m symbol \u001b[38;5;129;01min\u001b[39;00m futures_symbol_list:\n\u001b[1;32m      6\u001b[0m     current_time \u001b[38;5;241m=\u001b[39m start_time\n\u001b[0;32m----> 7\u001b[0m     \u001b[38;5;28;01mwhile\u001b[39;00m current_time \u001b[38;5;241m<\u001b[39m \u001b[43mdatetime\u001b[49m\u001b[38;5;241;43m.\u001b[39;49m\u001b[43mdatetime\u001b[49m\u001b[38;5;241m.\u001b[39mnow():\n\u001b[1;32m      8\u001b[0m         \u001b[38;5;28;01mtry\u001b[39;00m:\n\u001b[1;32m      9\u001b[0m             \u001b[38;5;66;03m# Attempt to download data\u001b[39;00m\n\u001b[1;32m     10\u001b[0m             download_klines_data(symbol, \u001b[38;5;28mstr\u001b[39m(current_time\u001b[38;5;241m.\u001b[39mdate()), data_dir, \u001b[38;5;124m'\u001b[39m\u001b[38;5;124mdaily\u001b[39m\u001b[38;5;124m'\u001b[39m, \u001b[38;5;124m'\u001b[39m\u001b[38;5;124m8h\u001b[39m\u001b[38;5;124m'\u001b[39m)\n",
      "\u001b[0;31mAttributeError\u001b[0m: type object 'datetime.datetime' has no attribute 'datetime'"
     ]
    }
   ],
   "source": [
    "data_dir = '/Users/tedting/Documents/FactorTradingSystem/data_Dean'\n",
    "\n",
    "start_time = datetime.strptime('2020-01-01', '%Y-%m-%d')\n",
    "\n",
    "for symbol in futures_symbol_list:\n",
    "    current_time = start_time\n",
    "    while current_time < datetime.now():\n",
    "        try:\n",
    "            # Attempt to download data\n",
    "            download_klines_data(symbol, str(current_time.date()), data_dir, 'daily', '8h')\n",
    "        except Exception as e:\n",
    "            print(f\"Failed to download data for {symbol} on {current_time.date()}: {e}\")\n",
    "        finally:\n",
    "            # Increment current_time by one day regardless of success or failure\n",
    "            current_time += timedelta(days=1)"
   ]
  },
  {
   "cell_type": "code",
   "execution_count": 21,
   "metadata": {},
   "outputs": [
    {
     "data": {
      "text/plain": [
       "'2020-01-01'"
      ]
     },
     "execution_count": 21,
     "metadata": {},
     "output_type": "execute_result"
    }
   ],
   "source": [
    "str(start_time.date())"
   ]
  },
  {
   "cell_type": "code",
   "execution_count": null,
   "metadata": {},
   "outputs": [],
   "source": []
  }
 ],
 "metadata": {
  "kernelspec": {
   "display_name": "quant311",
   "language": "python",
   "name": "python3"
  },
  "language_info": {
   "codemirror_mode": {
    "name": "ipython",
    "version": 3
   },
   "file_extension": ".py",
   "mimetype": "text/x-python",
   "name": "python",
   "nbconvert_exporter": "python",
   "pygments_lexer": "ipython3",
   "version": "3.11.5"
  }
 },
 "nbformat": 4,
 "nbformat_minor": 2
}
