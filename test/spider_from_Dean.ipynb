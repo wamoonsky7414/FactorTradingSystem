{
 "cells": [
  {
   "cell_type": "code",
   "execution_count": 3,
   "metadata": {},
   "outputs": [],
   "source": [
    "import os\n",
    "import time\n",
    "import urllib\n"
   ]
  },
  {
   "cell_type": "code",
   "execution_count": 4,
   "metadata": {},
   "outputs": [],
   "source": [
    "def download_data(symbol, date, data_dir, file_period, bar_interval):\n",
    " \n",
    "    bar_interval_path = os.path.join(data_dir, bar_interval)\n",
    "    path = os.path.join(bar_interval_path, symbol)\n",
    "    \n",
    "    base_url = f\"https://data.binance.vision/data/futures/um/{file_period}/klines/{symbol}/{bar_interval}/\"\n",
    "    file_name = f\"{symbol}-{bar_interval}-{date}.zip\"\n",
    "    url = os.path.join(base_url, file_name)\n",
    "\n",
    "    file_path = os.path.join(path, file_name)\n",
    "    \n",
    "    try:\n",
    "        # response = requests.get(url)\n",
    "        # if response.status_code == 200:\n",
    "        #     with open(file_path, 'wb') as file:\n",
    "        #         file.write(response.content)\n",
    "        urllib.request.urlretrieve(url, file_path)\n",
    "        time.sleep(0.01)\n",
    "    except Exception as e:\n",
    "        # record error\n",
    "        if \"Not Found\" in str(e):\n",
    "            pass\n",
    "        else:\n",
    "            print(f\"Failed to download {symbol} data for {date}: {e}\")"
   ]
  },
  {
   "cell_type": "code",
   "execution_count": 6,
   "metadata": {},
   "outputs": [
    {
     "name": "stdout",
     "output_type": "stream",
     "text": [
      "Failed to download BTCUSDT data for 2023-12-31: [Errno 2] No such file or directory: '/Users/tedting/Documents/FactorTradingSystem/data_Dean/1m/BTCUSDT/BTCUSDT-1m-2023-12-31.zip'\n"
     ]
    }
   ],
   "source": [
    "download_data('BTCUSDT', '2023-12-31', '/Users/tedting/Documents/FactorTradingSystem/data_Dean', 'daily', '1m')"
   ]
  },
  {
   "cell_type": "code",
   "execution_count": null,
   "metadata": {},
   "outputs": [],
   "source": []
  }
 ],
 "metadata": {
  "kernelspec": {
   "display_name": "quant311",
   "language": "python",
   "name": "python3"
  },
  "language_info": {
   "codemirror_mode": {
    "name": "ipython",
    "version": 3
   },
   "file_extension": ".py",
   "mimetype": "text/x-python",
   "name": "python",
   "nbconvert_exporter": "python",
   "pygments_lexer": "ipython3",
   "version": "3.11.5"
  }
 },
 "nbformat": 4,
 "nbformat_minor": 2
}
