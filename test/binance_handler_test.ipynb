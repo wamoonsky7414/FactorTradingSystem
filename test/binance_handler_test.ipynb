{
 "cells": [
  {
   "cell_type": "code",
   "execution_count": 1,
   "metadata": {},
   "outputs": [],
   "source": [
    "import sys\n",
    "sys.path.append('..')\n",
    "\n",
    "import pandas as pd\n",
    "from data_center.binance_handler import BinanceHandHandler"
   ]
  },
  {
   "cell_type": "code",
   "execution_count": 2,
   "metadata": {},
   "outputs": [
    {
     "name": "stdout",
     "output_type": "stream",
     "text": [
      "Loading: BTCUSDT, Last record time: 2024-03-11 00:00:00, Asia/Hong_Kong\n",
      "Loading: ETHUSDT, Last record time: 2024-03-11 00:00:00, Asia/Hong_Kong\n",
      "Loading: BNBUSDT, Last record time: 2024-03-11 00:00:00, Asia/Hong_Kong\n",
      "Loading: AAVEUSDT, Last record time: 2024-03-11 00:00:00, Asia/Hong_Kong\n",
      "Loading: AVAXUSDT, Last record time: 2024-03-11 00:00:00, Asia/Hong_Kong\n",
      "Loading: ETCUSDT, Last record time: 2024-03-11 00:00:00, Asia/Hong_Kong\n",
      "Loading: SOLUSDT, Last record time: 2024-03-11 00:00:00, Asia/Hong_Kong\n",
      "Loading: ADAUSDT, Last record time: 2024-03-11 00:00:00, Asia/Hong_Kong\n",
      "Loading: LINKUSDT, Last record time: 2024-03-11 00:00:00, Asia/Hong_Kong\n",
      "Loading: BCHUSDT, Last record time: 2024-03-11 00:00:00, Asia/Hong_Kong\n",
      "Loading: DOTUSDT, Last record time: 2024-03-11 00:00:00, Asia/Hong_Kong\n",
      "Loading: LTCUSDT, Last record time: 2024-03-11 00:00:00, Asia/Hong_Kong\n",
      "Loading: UNIUSDT, Last record time: 2024-03-11 00:00:00, Asia/Hong_Kong\n",
      "Loading: XRPUSDT, Last record time: 2024-03-11 00:00:00, Asia/Hong_Kong\n",
      "Loading: XLMUSDT, Last record time: 2024-03-11 00:00:00, Asia/Hong_Kong\n",
      "Loading: MATICUSDT, Last record time: 2024-03-11 00:00:00, Asia/Hong_Kong\n",
      "Loading: TRXUSDT, Last record time: 2024-03-11 00:00:00, Asia/Hong_Kong\n",
      "Loading: DOGEUSDT, Last record time: 2024-03-11 00:00:00, Asia/Hong_Kong\n",
      "Loading: INJUSDT, Last record time: 2024-03-11 00:00:00, Asia/Hong_Kong\n",
      "Finish\n",
      "\n"
     ]
    }
   ],
   "source": [
    "BinanceHandHandler().update_binanace_data_and_arrange_it_to_become_factor()\n",
    "df = BinanceHandHandler().get_factor_data('open')"
   ]
  },
  {
   "cell_type": "code",
   "execution_count": null,
   "metadata": {},
   "outputs": [],
   "source": []
  }
 ],
 "metadata": {
  "kernelspec": {
   "display_name": "quant311",
   "language": "python",
   "name": "python3"
  },
  "language_info": {
   "codemirror_mode": {
    "name": "ipython",
    "version": 3
   },
   "file_extension": ".py",
   "mimetype": "text/x-python",
   "name": "python",
   "nbconvert_exporter": "python",
   "pygments_lexer": "ipython3",
   "version": "3.11.5"
  }
 },
 "nbformat": 4,
 "nbformat_minor": 2
}
