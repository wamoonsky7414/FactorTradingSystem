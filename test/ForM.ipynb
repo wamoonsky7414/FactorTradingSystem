{
 "cells": [
  {
   "cell_type": "code",
   "execution_count": null,
   "metadata": {},
   "outputs": [],
   "source": [
    "import pandas as pd\n",
    "import os\n",
    "from backtest.operators import *\n",
    "from backtest.performance_generater import PerformanceGenerator\n",
    "\n",
    "path_data_path = os.path.join(os.path.dirname(os.path.dirname(os.getcwd())), 'ForM_Factor_data')\n",
    "returns = pd.read_csv(os.path.join(path_data_path,'return.csv'), index_col=0, parse_dates=True)\n",
    "exp_returns = returns.shift(-2) * 0.01\n",
    "\n",
    "ZTXA_close = pd.read_csv('/Volumes/Database/Factor_data/ZXTA_close.csv', index_col=0, parse_dates=True)\n",
    "Benchmark = ZTXA_close['ZTXA'].pct_change().shift(-2)\n",
    "\n"
   ]
  },
  {
   "cell_type": "code",
   "execution_count": null,
   "metadata": {},
   "outputs": [],
   "source": [
    "revenue_yoy = pd.read_csv(os.path.join(path_data_path, '單月營收成長率％_90.csv'), index_col=0, parse_dates=True)\n",
    "factor = ts_rank(revenue_yoy, 252)\n",
    "# no fee\n",
    "returns_by_period, summary_df = PerformanceGenerator(factor = factor,\n",
    "                                                     expreturn = exp_returns,\n",
    "                                                     strategy='LO',\n",
    "                                                     buy_fee = 0, \n",
    "                                                     sell_fee = 0,\n",
    "                                                     benchmark = Benchmark\n",
    "                                                     ).backtest()\n",
    "\n",
    "# fee\n",
    "returns_by_period, summary_df = PerformanceGenerator(factor = factor,\n",
    "                                                     expreturn = exp_returns,\n",
    "                                                     strategy='LO',\n",
    "                                                     benchmark = Benchmark\n",
    "                                                     ).backtest()"
   ]
  }
 ],
 "metadata": {
  "language_info": {
   "name": "python"
  }
 },
 "nbformat": 4,
 "nbformat_minor": 2
}
