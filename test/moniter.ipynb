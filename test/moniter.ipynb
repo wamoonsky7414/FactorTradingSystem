{
 "cells": [
  {
   "cell_type": "code",
   "execution_count": 2,
   "metadata": {},
   "outputs": [],
   "source": [
    "import os\n",
    "import sys\n",
    "sys.path.append('..')\n",
    "from backtest.operators import * \n",
    "from data_center.tej_handler import TEJHandler\n",
    "from monitor.tw_monitor import TWMarketMonitor\n",
    "\n",
    "from pymongo import MongoClient\n",
    "import tejapi\n",
    "\n",
    "import pandas as pd\n",
    "import numpy as np\n",
    "from datetime import date\n",
    "from dateutil.relativedelta import relativedelta\n",
    "# TEJHandler()"
   ]
  },
  {
   "cell_type": "markdown",
   "metadata": {},
   "source": [
    "### Get Weighting"
   ]
  },
  {
   "cell_type": "code",
   "execution_count": 3,
   "metadata": {},
   "outputs": [],
   "source": [
    "collection = \"monthly_revenue\"\n",
    "monthly_rev_pmart = TWMarketMonitor().directly_get_pmart(collection)"
   ]
  },
  {
   "cell_type": "code",
   "execution_count": 4,
   "metadata": {},
   "outputs": [],
   "source": [
    "monthly_rev_pmart['revenue_yoy'] = monthly_rev_pmart['單月營收(千元)'] / monthly_rev_pmart['去年單月營收(千元)'] -1\n",
    "example_factor = ts_rank(monthly_rev_pmart['revenue_yoy'],252)"
   ]
  },
  {
   "cell_type": "code",
   "execution_count": 5,
   "metadata": {},
   "outputs": [],
   "source": [
    "def get_weighting(factor):\n",
    "    demean = factor.sub(factor.mean(axis=1), axis=0)\n",
    "    weighting = demean.div(demean.abs().sum(axis=1), axis=0)\n",
    "    return weighting"
   ]
  },
  {
   "cell_type": "markdown",
   "metadata": {},
   "source": [
    "### 假設出訊號後隔天收盤進場"
   ]
  },
  {
   "cell_type": "code",
   "execution_count": 17,
   "metadata": {},
   "outputs": [],
   "source": [
    "example_signal = get_weighting(example_factor)\n",
    "example_weighting = example_signal.shift(2) #隔天收盤進場，後天才有部位"
   ]
  },
  {
   "cell_type": "markdown",
   "metadata": {},
   "source": [
    "### Get returns"
   ]
  },
  {
   "cell_type": "code",
   "execution_count": 8,
   "metadata": {},
   "outputs": [],
   "source": [
    "collection = 'securities_returns'\n",
    "returns_pmart = TWMarketMonitor().directly_get_pmart(collection)"
   ]
  },
  {
   "cell_type": "code",
   "execution_count": 15,
   "metadata": {},
   "outputs": [],
   "source": [
    "collection = 'securities_trading_data'\n",
    "ohlcv_pmart = TWMarketMonitor().directly_get_pmart(collection)"
   ]
  },
  {
   "cell_type": "code",
   "execution_count": 19,
   "metadata": {},
   "outputs": [],
   "source": [
    "example_returns = returns_pmart['日報酬率(%)']"
   ]
  },
  {
   "cell_type": "markdown",
   "metadata": {},
   "source": [
    "### 將weighting 與 returns結合獲得績效"
   ]
  },
  {
   "cell_type": "code",
   "execution_count": 25,
   "metadata": {},
   "outputs": [],
   "source": [
    "alpha_ret = example_weighting * example_returns\n",
    "recent_weekly_ret =  alpha_ret[-5:].dropna(axis =1, how = 'all')"
   ]
  },
  {
   "cell_type": "code",
   "execution_count": 27,
   "metadata": {},
   "outputs": [
    {
     "data": {
      "text/plain": [
       "datetime\n",
       "2024-03-28    0.022082\n",
       "2024-03-29    0.037265\n",
       "2024-04-01    0.115265\n",
       "2024-04-02    0.121972\n",
       "2024-04-03    0.005566\n",
       "dtype: float64"
      ]
     },
     "execution_count": 27,
     "metadata": {},
     "output_type": "execute_result"
    }
   ],
   "source": [
    "recent_weekly_ret.sum(axis =1)"
   ]
  }
 ],
 "metadata": {
  "kernelspec": {
   "display_name": "quant311",
   "language": "python",
   "name": "python3"
  },
  "language_info": {
   "codemirror_mode": {
    "name": "ipython",
    "version": 3
   },
   "file_extension": ".py",
   "mimetype": "text/x-python",
   "name": "python",
   "nbconvert_exporter": "python",
   "pygments_lexer": "ipython3",
   "version": "3.11.5"
  }
 },
 "nbformat": 4,
 "nbformat_minor": 2
}
