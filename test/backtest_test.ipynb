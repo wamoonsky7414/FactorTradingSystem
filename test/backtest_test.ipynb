{
 "cells": [
  {
   "cell_type": "code",
   "execution_count": 2,
   "metadata": {},
   "outputs": [],
   "source": [
    "import pandas as pd\n",
    "import sys\n",
    "sys.path.append('..')\n",
    "\n",
    "from backtest.performance_generater import PerformanceGenerator"
   ]
  },
  {
   "cell_type": "code",
   "execution_count": 17,
   "metadata": {},
   "outputs": [],
   "source": [
    "pd.read_csv('/Users/tedting/Documents/FactorTradingSystem/data/CRYPTO/BINANCE/UPERP/1d/AAVEUSDT.csv', index_col=0, parse_dates=True)"
   ]
  },
  {
   "cell_type": "code",
   "execution_count": 2,
   "metadata": {},
   "outputs": [],
   "source": [
    "def data_reshape(symbol_list:list, column:str, file_path_template:str):\n",
    "    df = pd.DataFrame()\n",
    "    for symbol in symbol_list:\n",
    "        file_path = f'{file_path_template}{symbol}.csv'\n",
    "        tmp_df = pd.read_csv(file_path, index_col=0, parse_dates=True)\n",
    "        tmp_df = tmp_df[[column]]\n",
    "        tmp_df.columns = [symbol]\n",
    "        df = pd.concat([df, tmp_df], axis=1).dropna()\n",
    "    return df"
   ]
  },
  {
   "cell_type": "code",
   "execution_count": 3,
   "metadata": {},
   "outputs": [],
   "source": [
    "symbols = [\n",
    "        \"AAVEUSDT\",\n",
    "        \"ADAUSDT\",\n",
    "        \"BCHUSDT\",\n",
    "        \"BNBUSDT\",\n",
    "        \"BTCUSDT\",\n",
    "        \"DOTUSDT\",\n",
    "        \"ETCUSDT\",\n",
    "        \"ETHUSDT\",\n",
    "        \"LINKUSDT\",\n",
    "        \"LTCUSDT\",\n",
    "        \"MATICUSDT\",\n",
    "        \"SOLUSDT\",\n",
    "        \"UNIUSDT\",\n",
    "        \"XLMUSDT\",\n",
    "        \"XRPUSDT\",\n",
    "      ]\n",
    "UPERP_close = data_reshape(symbols, 'close', '/Users/tedting/Documents/FactorTradingSystem/data/CRYPTO/BINANCE/UPERP/1d/')\n",
    "UPERP_open = data_reshape(symbols, 'open', '/Users/tedting/Documents/FactorTradingSystem/data/CRYPTO/BINANCE/UPERP/1d/')\n",
    "expreturn = UPERP_open.pct_change(-2)\n"
   ]
  },
  {
   "cell_type": "code",
   "execution_count": 5,
   "metadata": {},
   "outputs": [
    {
     "ename": "TypeError",
     "evalue": "PerformanceGenerator.backtest() got an unexpected keyword argument 'factor'",
     "output_type": "error",
     "traceback": [
      "\u001b[0;31m---------------------------------------------------------------------------\u001b[0m",
      "\u001b[0;31mTypeError\u001b[0m                                 Traceback (most recent call last)",
      "Cell \u001b[0;32mIn[5], line 8\u001b[0m\n\u001b[1;32m      6\u001b[0m end_time \u001b[38;5;241m=\u001b[39m alpha\u001b[38;5;241m.\u001b[39mindex[\u001b[38;5;241m-\u001b[39m\u001b[38;5;241m1\u001b[39m] \u001b[38;5;66;03m# '2024-02-19 08:00:00'\u001b[39;00m\n\u001b[1;32m      7\u001b[0m start_time \u001b[38;5;241m=\u001b[39m alpha\u001b[38;5;241m.\u001b[39mindex[\u001b[38;5;241m0\u001b[39m] \u001b[38;5;66;03m# '2024-O1-01 08:00:00'\u001b[39;00m\n\u001b[0;32m----> 8\u001b[0m frequent_returns, performace_report \u001b[38;5;241m=\u001b[39m \u001b[43mPerformanceGenerator\u001b[49m\u001b[38;5;241;43m.\u001b[39;49m\u001b[43mbacktest\u001b[49m\u001b[43m(\u001b[49m\u001b[43mfactor\u001b[49m\u001b[38;5;241;43m=\u001b[39;49m\u001b[43malpha\u001b[49m\u001b[43m,\u001b[49m\n\u001b[1;32m      9\u001b[0m \u001b[43m                            \u001b[49m\u001b[43mexpreturn\u001b[49m\u001b[38;5;241;43m=\u001b[39;49m\u001b[43mexpreturn\u001b[49m\u001b[43m,\u001b[49m\n\u001b[1;32m     10\u001b[0m \u001b[43m                            \u001b[49m\u001b[43mstrategy\u001b[49m\u001b[38;5;241;43m=\u001b[39;49m\u001b[38;5;124;43m'\u001b[39;49m\u001b[38;5;124;43mLS\u001b[39;49m\u001b[38;5;124;43m'\u001b[39;49m\u001b[43m,\u001b[49m\n\u001b[1;32m     11\u001b[0m \u001b[43m                            \u001b[49m\u001b[43mbuy_fee\u001b[49m\u001b[38;5;241;43m=\u001b[39;49m\u001b[43mbuy_fee\u001b[49m\u001b[43m,\u001b[49m\u001b[43m \u001b[49m\u001b[43msell_fee\u001b[49m\u001b[38;5;241;43m=\u001b[39;49m\u001b[43msell_fee\u001b[49m\u001b[43m,\u001b[49m\n\u001b[1;32m     12\u001b[0m \u001b[43m                            \u001b[49m\u001b[43mstart_time\u001b[49m\u001b[38;5;241;43m=\u001b[39;49m\u001b[43mstart_time\u001b[49m\u001b[43m,\u001b[49m\n\u001b[1;32m     13\u001b[0m \u001b[43m                            \u001b[49m\u001b[43mend_time\u001b[49m\u001b[38;5;241;43m=\u001b[39;49m\u001b[43mend_time\u001b[49m\u001b[43m,\u001b[49m\n\u001b[1;32m     14\u001b[0m \u001b[43m                            \u001b[49m\u001b[43mperiod_of_year\u001b[49m\u001b[43m \u001b[49m\u001b[38;5;241;43m=\u001b[39;49m\u001b[43m \u001b[49m\u001b[38;5;241;43m252\u001b[39;49m\u001b[43m)\u001b[49m\n\u001b[1;32m     15\u001b[0m frequent_returns\u001b[38;5;241m.\u001b[39mindex \u001b[38;5;241m=\u001b[39m pd\u001b[38;5;241m.\u001b[39mto_datetime(frequent_returns\u001b[38;5;241m.\u001b[39mindex)\n\u001b[1;32m     16\u001b[0m performace_report\n",
      "\u001b[0;31mTypeError\u001b[0m: PerformanceGenerator.backtest() got an unexpected keyword argument 'factor'"
     ]
    }
   ],
   "source": [
    "combine_expression = 'UPERP_close'\n",
    "alpha = eval(combine_expression).dropna()\n",
    "buy_fee = 0.05/100\n",
    "sell_fee = 0.05/100\n",
    "\n",
    "end_time = alpha.index[-1] # '2024-02-19 08:00:00'\n",
    "start_time = alpha.index[0] # '2024-O1-01 08:00:00'\n",
    "frequent_returns, performace_report = PerformanceGenerator.backtest(factor=alpha,\n",
    "                            expreturn=expreturn,\n",
    "                            strategy='LS',\n",
    "                            buy_fee=buy_fee, sell_fee=sell_fee,\n",
    "                            start_time=start_time,\n",
    "                            end_time=end_time,\n",
    "                            period_of_year = 252)\n",
    "frequent_returns.index = pd.to_datetime(frequent_returns.index)\n",
    "performace_report"
   ]
  },
  {
   "cell_type": "code",
   "execution_count": null,
   "metadata": {},
   "outputs": [],
   "source": []
  }
 ],
 "metadata": {
  "kernelspec": {
   "display_name": "quant311",
   "language": "python",
   "name": "python3"
  },
  "language_info": {
   "codemirror_mode": {
    "name": "ipython",
    "version": 3
   },
   "file_extension": ".py",
   "mimetype": "text/x-python",
   "name": "python",
   "nbconvert_exporter": "python",
   "pygments_lexer": "ipython3",
   "version": "3.11.5"
  }
 },
 "nbformat": 4,
 "nbformat_minor": 2
}
