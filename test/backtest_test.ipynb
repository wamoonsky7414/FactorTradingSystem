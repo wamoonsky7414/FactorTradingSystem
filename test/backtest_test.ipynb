{
 "cells": [
  {
   "cell_type": "code",
   "execution_count": 1,
   "metadata": {},
   "outputs": [],
   "source": [
    "import pandas as pd\n",
    "import sys\n",
    "sys.path.append('..')\n",
    "\n",
    "from backtest.performance_generater import PerformanceGenerator"
   ]
  },
  {
   "cell_type": "code",
   "execution_count": 6,
   "metadata": {},
   "outputs": [],
   "source": [
    "def data_reshape(symbol_list:list, column:str, file_path_template:str):\n",
    "    df = pd.DataFrame()\n",
    "    for symbol in symbol_list:\n",
    "        # 或者如果你喜欢使用f-string，那么可以是：\n",
    "        file_path = f'{file_path_template}{symbol}.csv'\n",
    "        tmp_df = pd.read_csv(file_path, index_col=0, parse_dates=True)\n",
    "        tmp_df = tmp_df[[column]]\n",
    "        tmp_df.columns = [symbol]\n",
    "        df = pd.concat([df, tmp_df], axis=1).dropna()\n",
    "    return df"
   ]
  },
  {
   "cell_type": "code",
   "execution_count": 9,
   "metadata": {},
   "outputs": [],
   "source": [
    "symbols = [\n",
    "        \"AAVEUSDT\",\n",
    "        \"ADAUSDT\",\n",
    "        \"BCHUSDT\",\n",
    "        \"BNBUSDT\",\n",
    "        \"BTCUSDT\",\n",
    "        \"DOTUSDT\",\n",
    "        \"ETCUSDT\",\n",
    "        \"ETHUSDT\",\n",
    "        \"LINKUSDT\",\n",
    "        \"LTCUSDT\",\n",
    "        \"MATICUSDT\",\n",
    "        \"SOLUSDT\",\n",
    "        \"UNIUSDT\",\n",
    "        \"XLMUSDT\",\n",
    "        \"XRPUSDT\",\n",
    "      ]\n",
    "UPERP_close = data_reshape(symbols, 'close', '/Users/tedting/Documents/FactorTradingSystem/data/CRYPTO/BINANCE/UPERP/1d/')\n",
    "UPERP_open = data_reshape(symbols, 'open', '/Users/tedting/Documents/FactorTradingSystem/data/CRYPTO/BINANCE/UPERP/1d/')\n",
    "expreturn = UPERP_open.pct_change(-2)\n"
   ]
  },
  {
   "cell_type": "code",
   "execution_count": null,
   "metadata": {},
   "outputs": [],
   "source": []
  }
 ],
 "metadata": {
  "kernelspec": {
   "display_name": "quant311",
   "language": "python",
   "name": "python3"
  },
  "language_info": {
   "codemirror_mode": {
    "name": "ipython",
    "version": 3
   },
   "file_extension": ".py",
   "mimetype": "text/x-python",
   "name": "python",
   "nbconvert_exporter": "python",
   "pygments_lexer": "ipython3",
   "version": "3.11.5"
  }
 },
 "nbformat": 4,
 "nbformat_minor": 2
}
