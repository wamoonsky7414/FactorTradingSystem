{
 "cells": [
  {
   "cell_type": "code",
   "execution_count": null,
   "metadata": {},
   "outputs": [],
   "source": [
    "import requests\n",
    "import pandas as pd\n",
    "import time\n",
    "import pytz\n",
    "from datetime import datetime"
   ]
  },
  {
   "cell_type": "code",
   "execution_count": null,
   "metadata": {},
   "outputs": [],
   "source": [
    "target_list = ['ADA', 'BNB', 'BTC', 'DOGE', 'DOT', 'ETH', 'LINK', 'MATIC', 'OP', 'SOL', 'TRX', 'XRP']"
   ]
  },
  {
   "cell_type": "code",
   "execution_count": null,
   "metadata": {},
   "outputs": [],
   "source": [
    "for target in target_list:\n",
    "    target_timezone = pytz.timezone(\"Asia/Hong_Kong\")\n",
    "\n",
    "    pair = \"BNBUSDT\"\n",
    "    ContractType = \"PERPETUAL\"\n",
    "    interval = \"8h\"\n",
    "    start_time = int(pd.Timestamp(\"2020-01-01\", tz=target_timezone).timestamp() * 1000) #long\n",
    "    end_time = int(datetime.now().timestamp() * 1000) #long\n",
    "    limit = 1000\n",
    "\n",
    "    target = pair\n",
    "    save_path = rf'/Users/tedting/Documents/Blockchain/binance_data/UPERP/8H'\n",
    "    file_name = rf'{target}_8h.csv'\n",
    "\n",
    "    all_data = []\n",
    "\n",
    "    # Make requests in chunks until you reach the end_time\n",
    "    while start_time < end_time:\n",
    "        params = {\n",
    "            \"pair\": pair,\n",
    "            \"ContractType\": ContractType,\n",
    "            \"interval\": interval,\n",
    "            \"startTime\": start_time,\n",
    "            \"endTime\": end_time,\n",
    "            \"limit\": limit  # Use the chunk_size for each request\n",
    "        }\n",
    "        \n",
    "        url = \"https://fapi.binance.com/fapi/v1/continuousKlines\"\n",
    "        response = requests.get(url, params=params)\n",
    "        data = response.json()\n",
    "        \n",
    "        # If data is empty, break out of the loop\n",
    "        if not data:\n",
    "            break\n",
    "        \n",
    "        # Append the data to the all_data list\n",
    "        all_data.extend(data)\n",
    "        # Create a DataFrame from the combined data\n",
    "        df = pd.DataFrame({\n",
    "            'datetime': [row[0] for row in all_data],\n",
    "            'open': [row[1] for row in all_data],\n",
    "            'high': [row[2] for row in all_data],\n",
    "            'low': [row[3] for row in all_data],\n",
    "            'close': [row[4] for row in all_data],\n",
    "            'volume': [row[5] for row in all_data]\n",
    "        })\n",
    "\n",
    "        # Convert 'datetime' from timestamp (milliseconds) to datetime format\n",
    "        df['datetime'] = pd.to_datetime(df['datetime'], unit='ms')\n",
    "\n",
    "        # If you want to ensure the datetime is formatted as a string in the specific format \"YYYY-MM-DD HH:MM:SS\"\n",
    "        df['datetime'] = df['datetime'].dt.strftime('%Y-%m-%d %H:%M:%S')\n",
    "\n",
    "        print(data)\n",
    "        print(data[-1][0])\n",
    "        # Update the start_time for the next request\n",
    "        start_time = int(data[-1][0]) + 1  # Set the new start_time to the next timestamp\n",
    "        print(start_time)\n",
    "        time.sleep(1)\n",
    "    print('Finish!')"
   ]
  },
  {
   "cell_type": "code",
   "execution_count": null,
   "metadata": {},
   "outputs": [],
   "source": [
    "target_list = ['ADA', 'BNB', 'BTC', 'DOGE', 'DOT', 'ETH', 'LINK', 'MATIC', 'OP', 'SOL', 'TRX', 'XRP']"
   ]
  }
 ],
 "metadata": {
  "language_info": {
   "name": "python"
  }
 },
 "nbformat": 4,
 "nbformat_minor": 2
}
