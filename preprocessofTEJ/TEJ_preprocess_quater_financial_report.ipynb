{
 "cells": [
  {
   "cell_type": "code",
   "execution_count": 1,
   "id": "d9d299ff",
   "metadata": {},
   "outputs": [
    {
     "name": "stdout",
     "output_type": "stream",
     "text": [
      "/Volumes/Database/Original_data\n"
     ]
    }
   ],
   "source": [
    "import os\n",
    "import pandas as pd\n",
    "import numpy as np\n",
    "import datetime\n",
    "import pickle\n",
    "# pd.set_option('display.max_columns', None)\n",
    "# # pd.set_option(\"display.max_rows\", 50)\n",
    "\n",
    "import warnings\n",
    "\n",
    "# Use this filter to ignore the specific FutureWarning\n",
    "warnings.simplefilter(action='ignore', category=FutureWarning)\n",
    "\n",
    "target_folder_path = '/Volumes/Database/Original_data'\n",
    "%cd \"{target_folder_path}\""
   ]
  },
  {
   "cell_type": "markdown",
   "id": "360a74f0",
   "metadata": {},
   "source": [
    "### Get correct_datetime_df \"open\""
   ]
  },
  {
   "cell_type": "code",
   "execution_count": 2,
   "id": "dcb85e48",
   "metadata": {},
   "outputs": [],
   "source": [
    "open = pd.read_csv(\"/Volumes/Database/Factor_data/open.csv\", index_col=0)"
   ]
  },
  {
   "cell_type": "code",
   "execution_count": 3,
   "id": "029092c9",
   "metadata": {},
   "outputs": [],
   "source": [
    "FR_data = pd.read_table(rf\"{target_folder_path}/IFRS合併一般產業單季/財報.txt\", encoding='Big5-HKSCS', low_memory=False)"
   ]
  },
  {
   "cell_type": "code",
   "execution_count": 4,
   "id": "e251405c",
   "metadata": {},
   "outputs": [],
   "source": [
    "columns_list = FR_data.columns.tolist()\n",
    "the_place_start_to_become_numeric = 8\n",
    "\n",
    "### make all_columns to str\n",
    "for column in columns_list:\n",
    "    FR_data[column] = FR_data[column].astype(str).str.strip()\n",
    "\n",
    "### make numeric data to be numeric\n",
    "numeric_list = [element for element in columns_list[the_place_start_to_become_numeric:] if \"發布日\" not in element] # [2:] is become I need to make the future symbol columns \"ticker\" keep in str\n",
    "for elements in numeric_list:\n",
    "    FR_data[elements] = pd.to_numeric(FR_data[elements], errors='coerce')\n",
    "\n",
    "### make date inf to datetime\n",
    "FR_data['年/月'] = pd.to_datetime(FR_data['年/月'], format='%Y%m')\n",
    "elements_with_releseday = [element for element in columns_list[the_place_start_to_become_numeric:] if \"發布日\" in element]\n",
    "for elements in elements_with_releseday:\n",
    "    FR_data[elements] = pd.to_datetime(FR_data[elements], format='%Y/%m/%d')\n",
    "\n",
    "FR_data.rename(columns= {'公司': 'symbol',\n",
    "                         '年/月': 'datetime',\n",
    "                         '財報發布日': 'release'}, inplace=True)"
   ]
  },
  {
   "cell_type": "code",
   "execution_count": 5,
   "id": "9d9a843f",
   "metadata": {},
   "outputs": [],
   "source": [
    "FR_data.columns = FR_data.columns.str.replace('/', '')\n",
    "output_list = [col for col in FR_data.columns[the_place_start_to_become_numeric:] if col not in elements_with_releseday]"
   ]
  },
  {
   "cell_type": "code",
   "execution_count": 6,
   "id": "6326bcd4",
   "metadata": {},
   "outputs": [],
   "source": [
    "# # 100% according to publish date (date rebalance)\n",
    "# for column_name in output_list:\n",
    "#     print(column_name)\n",
    "#     unstackdata_release = FR_data.set_index(['datetime','symbol'])['release'].unstack().loc['2013':]\n",
    "#     unstackdata_imf = FR_data.set_index(['datetime','symbol'])[column_name].unstack().loc['2013':]\n",
    "    \n",
    "#     unstackdata_release = unstackdata_release.reindex(open.index).fillna(method='ffill')\n",
    "#     filter = unstackdata_release.apply(lambda x: x == x.index)\n",
    "#     unstackdata_imf = unstackdata_imf.reindex(open.index).fillna(method='ffill')\n",
    "#     unstackdata_imf_filtered = unstackdata_imf[filter]\n",
    "#     data_reindex = unstackdata_imf_filtered.fillna(method='ffill', inplace=False)\n",
    "#     csv_file = os.path.join('/Volumes/Database/Factor_data', f'{column_name}_100.csv')\n",
    "#     data_reindex.to_csv(csv_file)\n",
    "        "
   ]
  },
  {
   "cell_type": "code",
   "execution_count": 33,
   "id": "e4477e24",
   "metadata": {},
   "outputs": [],
   "source": [
    "# 90% first release (quarter rebalance)\n",
    "unstackdata_release = FR_data.reset_index().set_index(['datetime','symbol'])['release'].unstack().loc['2013':]\n",
    "open_indexes = open.loc['2013':].index\n",
    "\n",
    "for column_name in output_list:\n",
    "    unstackdata_imf = FR_data.reset_index().set_index(['datetime','symbol'])[column_name].unstack().loc['2013':]\n",
    "    releaserankpct = unstackdata_release.rank(axis=1,pct=True)\n",
    "    filter = unstackdata_imf[releaserankpct < 0.9]\n",
    "    filter.index = unstackdata_release[releaserankpct < 0.9].max(axis=1)\n",
    "    data_reindex = filter.reindex(open_indexes, method = 'ffill') # 不同於fillna(ffill) 對NaN的處理不同\n",
    "    csv_file = os.path.join('/Volumes/Database/Factor_data', f'{column_name}_90.csv')\n",
    "    data_reindex.to_csv(csv_file)\n"
   ]
  },
  {
   "cell_type": "markdown",
   "id": "43198d5f",
   "metadata": {},
   "source": [
    "### check"
   ]
  },
  {
   "cell_type": "code",
   "execution_count": null,
   "id": "f0e4adf7",
   "metadata": {},
   "outputs": [],
   "source": []
  }
 ],
 "metadata": {
  "kernelspec": {
   "display_name": "Python 3 (ipykernel)",
   "language": "python",
   "name": "python3"
  },
  "language_info": {
   "codemirror_mode": {
    "name": "ipython",
    "version": 3
   },
   "file_extension": ".py",
   "mimetype": "text/x-python",
   "name": "python",
   "nbconvert_exporter": "python",
   "pygments_lexer": "ipython3",
   "version": "3.11.5"
  }
 },
 "nbformat": 4,
 "nbformat_minor": 5
}
