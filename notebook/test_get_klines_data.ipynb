{
 "cells": [
  {
   "cell_type": "code",
   "execution_count": 1,
   "metadata": {},
   "outputs": [],
   "source": [
    "import os\n",
    "import datetime\n",
    "import urllib.request\n",
    "import zipfile\n",
    "import json\n",
    "from concurrent.futures import ThreadPoolExecutor\n",
    "import logging\n",
    "\n",
    "# Make sure the logs directory exists\n",
    "logs_dir = 'logs'\n",
    "os.makedirs(logs_dir, exist_ok=True)\n"
   ]
  },
  {
   "cell_type": "code",
   "execution_count": 2,
   "metadata": {},
   "outputs": [],
   "source": [
    "logging.basicConfig(filename=os.path.join(logs_dir, 'download_klines_log.log'), level=logging.INFO, format='%(asctime)s - %(levelname)s - %(message)s')\n",
    "\n",
    "def download_klines_data(symbol, date, data_dir, file_period, bar_interval):\n",
    "    bar_interval_path = os.path.join(data_dir, bar_interval)\n",
    "    os.makedirs(bar_interval_path, exist_ok=True)\n",
    "    \n",
    "    symbol_path = os.path.join(bar_interval_path, symbol)\n",
    "    os.makedirs(symbol_path, exist_ok=True)\n",
    "    \n",
    "    file_name = f\"{symbol}-{bar_interval}-{date}.zip\"\n",
    "    url = f\"https://data.binance.vision/data/futures/um/{file_period}/klines/{symbol}/{bar_interval}/{file_name}\"\n",
    "    file_path = os.path.join(symbol_path, file_name)\n",
    "    \n",
    "    try:\n",
    "        urllib.request.urlretrieve(url, file_path)\n",
    "        logging.info(f\"Successfully downloaded {file_path}\")\n",
    "\n",
    "        with zipfile.ZipFile(file_path, 'r') as zip_ref:\n",
    "            zip_ref.extractall(symbol_path)\n",
    "            logging.info(f\"Successfully extracted {file_name} to {symbol_path}\")\n",
    "\n",
    "        os.remove(file_path)\n",
    "        logging.info(f\"Deleted the zip file: {file_path}\")\n",
    "    except Exception as e:\n",
    "        logging.error(f\"Error handling {file_name}: {e}\")\n",
    "        if os.path.exists(file_path):\n",
    "            os.remove(file_path)\n",
    "            logging.info(f\"Cleanup incomplete download {file_path}\")\n",
    "\n",
    "def download_for_symbol(symbol, start_date, end_date, data_dir, file_period, bar_interval):\n",
    "    current_date = start_date\n",
    "    while current_date < end_date:\n",
    "        download_klines_data(symbol, current_date.strftime('%Y-%m-%d'), data_dir, file_period, bar_interval)\n",
    "        current_date += datetime.timedelta(days=1)\n",
    "\n",
    "def main():\n",
    "    with open('/Users/tedting/Documents/FactorTradingSystem/data_center/config/top_futures_symbol_list.json') as f:\n",
    "        futures_symbol_list = json.loads(f.read())\n",
    "    \n",
    "    data_dir = '/Users/tedting/Documents/FactorTradingSystem/data_m/klines'\n",
    "    os.makedirs(data_dir, exist_ok=True)\n",
    "    start_time = datetime.datetime.strptime('2024-01-01', '%Y-%m-%d')\n",
    "    end_time = datetime.datetime.now()\n",
    "\n",
    "    # Use ThreadPoolExecutor to download data in parallel\n",
    "    with ThreadPoolExecutor(max_workers=4) as executor:\n",
    "        for symbol in futures_symbol_list:\n",
    "            executor.submit(download_for_symbol, symbol, start_time, end_time, data_dir, 'daily', '5m')\n",
    "\n",
    "if __name__ == \"__main__\":\n",
    "        main()"
   ]
  },
  {
   "cell_type": "code",
   "execution_count": 6,
   "metadata": {},
   "outputs": [],
   "source": [
    "from datetime import datetime, timedelta"
   ]
  },
  {
   "cell_type": "code",
   "execution_count": 7,
   "metadata": {},
   "outputs": [
    {
     "data": {
      "text/plain": [
       "datetime.datetime(2024, 3, 21, 9, 49, 49, 569208)"
      ]
     },
     "execution_count": 7,
     "metadata": {},
     "output_type": "execute_result"
    }
   ],
   "source": [
    "last_day_of_previous_month = datetime.now() - timedelta(days= 31)\n",
    "last_day_of_previous_month.strptime('2020-01-01', '%Y-%m-%d')"
   ]
  },
  {
   "cell_type": "code",
   "execution_count": 3,
   "metadata": {},
   "outputs": [
    {
     "data": {
      "text/plain": [
       "datetime.datetime(2020, 1, 1, 0, 0)"
      ]
     },
     "execution_count": 3,
     "metadata": {},
     "output_type": "execute_result"
    }
   ],
   "source": [
    "start_time = datetime.datetime.strptime('2020-01-01', '%Y-%m-%d')\n",
    "start_time"
   ]
  },
  {
   "cell_type": "code",
   "execution_count": 4,
   "metadata": {},
   "outputs": [
    {
     "data": {
      "text/plain": [
       "datetime.datetime(2024, 4, 21, 9, 48, 31, 715366)"
      ]
     },
     "execution_count": 4,
     "metadata": {},
     "output_type": "execute_result"
    }
   ],
   "source": [
    "datetime.datetime.now()"
   ]
  },
  {
   "cell_type": "code",
   "execution_count": null,
   "metadata": {},
   "outputs": [],
   "source": []
  }
 ],
 "metadata": {
  "kernelspec": {
   "display_name": "quant311",
   "language": "python",
   "name": "python3"
  },
  "language_info": {
   "codemirror_mode": {
    "name": "ipython",
    "version": 3
   },
   "file_extension": ".py",
   "mimetype": "text/x-python",
   "name": "python",
   "nbconvert_exporter": "python",
   "pygments_lexer": "ipython3",
   "version": "3.11.5"
  }
 },
 "nbformat": 4,
 "nbformat_minor": 2
}
