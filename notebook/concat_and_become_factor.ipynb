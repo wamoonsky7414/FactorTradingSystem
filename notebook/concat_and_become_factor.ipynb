{
 "cells": [
  {
   "cell_type": "code",
   "execution_count": 29,
   "metadata": {},
   "outputs": [],
   "source": [
    "import os\n",
    "import pandas as pd\n",
    "import json\n",
    "import datetime\n",
    "\n",
    "with open('/Users/tedting/Documents/FactorTradingSystem/data_center/config/top_futures_symbol_list.json') as f:\n",
    "    futures_symbol_list = json.loads(f.read())\n",
    "    \n",
    "database_path = '/Users/tedting/Documents/FactorTradingSystem/data_m/'"
   ]
  },
  {
   "cell_type": "markdown",
   "metadata": {},
   "source": [
    "metrics"
   ]
  },
  {
   "cell_type": "code",
   "execution_count": 20,
   "metadata": {},
   "outputs": [],
   "source": [
    "data_type = 'metrics'\n",
    "\n",
    "folder_path = os.path.join(database_path, data_type)\n",
    "\n",
    "\n",
    "# 遍历文件夹\n",
    "for symbol in futures_symbol_list:\n",
    "    file_path = os.path.join(folder_path, symbol)\n",
    "    symbol_total_data = pd.DataFrame()\n",
    "    for filename in os.listdir(file_path):\n",
    "        data_path = os.path.join(file_path, filename)\n",
    "        df = pd.read_csv(data_path, parse_dates=True)\n",
    "        df = df.drop(['symbol'],axis =1)\n",
    "        df.rename(columns={'create_time': 'datetime'}, inplace=True)\n",
    "        symbol_total_data = pd.concat([symbol_total_data, df],ignore_index=True)\n",
    "    symbol_total_data = symbol_total_data.sort_values(by='datetime')\n",
    "    save_folder_path = os.path.join(database_path, 'factor', data_type)\n",
    "    os.makedirs(save_folder_path, exist_ok=True)\n",
    "    save_path = os.path.join(save_folder_path, f'{symbol}.csv')\n",
    "    symbol_total_data.to_csv(save_path, index=False)"
   ]
  },
  {
   "cell_type": "markdown",
   "metadata": {},
   "source": [
    "klines"
   ]
  },
  {
   "cell_type": "code",
   "execution_count": 91,
   "metadata": {},
   "outputs": [],
   "source": [
    "with open('/Users/tedting/Documents/FactorTradingSystem/data_center/config/top_futures_symbol_list.json') as f:\n",
    "    futures_symbol_list = json.loads(f.read())\n",
    "    \n",
    "# 设定的文件夹路径\n",
    "database_path = '/Users/tedting/Documents/FactorTradingSystem/data_m/'\n",
    "data_type = 'klines/5m'\n",
    "\n",
    "folder_path = os.path.join(database_path, data_type)\n",
    "\n",
    "\n",
    "# 遍历文件夹\n",
    "for symbol in futures_symbol_list:\n",
    "    file_path = os.path.join(folder_path, symbol)\n",
    "    symbol_total_data = pd.DataFrame()\n",
    "    for filename in os.listdir(file_path):\n",
    "        data_path = os.path.join(file_path, filename)\n",
    "        df = pd.read_csv(data_path, parse_dates=True)\n",
    "        if df.columns[0] != 'open_time':\n",
    "            df = pd.read_csv(data_path, header=None)\n",
    "            column_names = ['open_time', 'open', 'high', 'low', 'close', 'volume', 'close_time', 'quote_volume', 'count', 'taker_buy_volume', 'taker_buy_quote_volume', 'ignore']\n",
    "            df.columns = column_names   \n",
    "        df = df.drop(['close_time','ignore'],axis =1)\n",
    "        df.rename(columns={'open_time': 'datetime'}, inplace=True)\n",
    "        symbol_total_data = pd.concat([symbol_total_data, df],ignore_index=True)\n",
    "\n",
    "    symbol_total_data = symbol_total_data.sort_values(by='datetime')\n",
    "    symbol_total_data['datetime'] = pd.to_datetime(symbol_total_data['datetime'], unit='ms')\n",
    "    symbol_total_data.set_index('datetime', inplace=True)\n",
    "    symbol_total_data = symbol_total_data.shift(1)\n",
    "    save_folder_path = os.path.join(database_path, 'factor', data_type)\n",
    "    os.makedirs(save_folder_path, exist_ok=True)\n",
    "    save_path = os.path.join(save_folder_path, f'{symbol}.csv')\n",
    "    symbol_total_data.to_csv(save_path)"
   ]
  },
  {
   "cell_type": "markdown",
   "metadata": {},
   "source": [
    "indexpricekine"
   ]
  },
  {
   "cell_type": "code",
   "execution_count": 105,
   "metadata": {},
   "outputs": [
    {
     "name": "stdout",
     "output_type": "stream",
     "text": [
      "BTCUSDT\n",
      "ETHUSDT\n",
      "BNBUSDT\n",
      "AAVEUSDT\n",
      "AVAXUSDT\n",
      "ETCUSDT\n",
      "SOLUSDT\n",
      "ADAUSDT\n",
      "LINKUSDT\n",
      "BCHUSDT\n",
      "DOTUSDT\n",
      "LTCUSDT\n",
      "UNIUSDT\n",
      "XRPUSDT\n",
      "XLMUSDT\n",
      "MATICUSDT\n",
      "TRXUSDT\n",
      "DOGEUSDT\n",
      "INJUSDT\n",
      "DASHUSDT\n",
      "XEMUSDT\n",
      "ZECUSDT\n"
     ]
    }
   ],
   "source": [
    "import os\n",
    "import pandas as pd\n",
    "import json\n",
    "\n",
    "with open('/Users/tedting/Documents/FactorTradingSystem/data_center/config/top_futures_symbol_list.json') as f:\n",
    "    futures_symbol_list = json.loads(f.read())\n",
    "    \n",
    "# 设定的文件夹路径\n",
    "database_path = '/Users/tedting/Documents/FactorTradingSystem/data_m/'\n",
    "data_type = 'indexpriceklines/5m'\n",
    "\n",
    "folder_path = os.path.join(database_path, data_type)\n",
    "\n",
    "for symbol in futures_symbol_list:\n",
    "    print(symbol)\n",
    "    file_path = os.path.join(folder_path, symbol)\n",
    "    symbol_total_data = pd.DataFrame()\n",
    "    for filename in os.listdir(file_path):\n",
    "        data_path = os.path.join(file_path, filename)\n",
    "        df = pd.read_csv(data_path)\n",
    "        if df.columns[0] != 'open_time':\n",
    "            df = pd.read_csv(data_path, header=None)\n",
    "            column_names = ['open_time', 'open', 'high', 'low', 'close', 'volume', 'close_time', 'quote_volume', 'count', 'taker_buy_volume', 'taker_buy_quote_volume', 'ignore']\n",
    "            df.columns = column_names  \n",
    "        df = df.drop(['volume', 'close_time', 'quote_volume', 'count', 'taker_buy_volume', 'taker_buy_quote_volume', 'ignore'],axis =1)\n",
    "        symbol_total_data = pd.concat([symbol_total_data, df],ignore_index=True, axis = 0)\n",
    "\n",
    "    symbol_total_data.rename(columns={'open_time': 'datetime', 'open': 'index_open', 'high': 'index_high', 'low': 'index_low', 'close': 'index_close'}, inplace=True)\n",
    "    symbol_total_data['datetime'] = pd.to_numeric(symbol_total_data['datetime'], errors='coerce')\n",
    "    symbol_total_data['datetime'] = pd.to_datetime(symbol_total_data['datetime'], unit='ms')\n",
    "    symbol_total_data = symbol_total_data.sort_values(by='datetime')\n",
    "    symbol_total_data.set_index('datetime', inplace=True)\n",
    "    symbol_total_data = symbol_total_data.shift(1)\n",
    "    save_folder_path = os.path.join(database_path, 'factor', data_type)\n",
    "    os.makedirs(save_folder_path, exist_ok=True)\n",
    "    save_path = os.path.join(save_folder_path, f'{symbol}.csv')\n",
    "    symbol_total_data.to_csv(save_path)"
   ]
  },
  {
   "cell_type": "markdown",
   "metadata": {},
   "source": [
    "markpriceklines"
   ]
  },
  {
   "cell_type": "code",
   "execution_count": 110,
   "metadata": {},
   "outputs": [],
   "source": [
    "import os\n",
    "import pandas as pd\n",
    "import json\n",
    "\n",
    "with open('/Users/tedting/Documents/FactorTradingSystem/data_center/config/top_futures_symbol_list.json') as f:\n",
    "    futures_symbol_list = json.loads(f.read())\n",
    "    \n",
    "# 设定的文件夹路径\n",
    "database_path = '/Users/tedting/Documents/FactorTradingSystem/data_m/'\n",
    "data_type = 'markpriceklines/5m'\n",
    "\n",
    "folder_path = os.path.join(database_path, data_type)\n",
    "\n",
    "for symbol in futures_symbol_list:\n",
    "    file_path = os.path.join(folder_path, symbol)\n",
    "    symbol_total_data = pd.DataFrame()\n",
    "    for filename in os.listdir(file_path):\n",
    "        data_path = os.path.join(file_path, filename)\n",
    "        df = pd.read_csv(data_path)\n",
    "        if df.columns[0] != 'open_time':\n",
    "            df = pd.read_csv(data_path, header=None)\n",
    "            column_names = ['open_time', 'open', 'high', 'low', 'close', 'volume', 'close_time', 'quote_volume', 'count', 'taker_buy_volume', 'taker_buy_quote_volume', 'ignore']\n",
    "            df.columns = column_names  \n",
    "        df = df.drop(['volume', 'close_time', 'quote_volume', 'count', 'taker_buy_volume', 'taker_buy_quote_volume', 'ignore'],axis =1)\n",
    "        df.rename(columns={'open_time': 'datetime', 'open': 'mark_open', 'high': 'mark_high', 'low': 'mark_low', 'close': 'mark_close'}, inplace=True)\n",
    "        symbol_total_data = pd.concat([symbol_total_data, df],ignore_index=True, axis = 0)\n",
    "\n",
    "    symbol_total_data = symbol_total_data.sort_values(by='datetime')\n",
    "    symbol_total_data['datetime'] = pd.to_datetime(symbol_total_data['datetime'], unit='ms')\n",
    "    symbol_total_data.set_index('datetime', inplace=True)\n",
    "    symbol_total_data = symbol_total_data.shift(1)\n",
    "    save_folder_path = os.path.join(database_path, 'factor', data_type)\n",
    "    os.makedirs(save_folder_path, exist_ok=True)\n",
    "    save_path = os.path.join(save_folder_path, f'{symbol}.csv')\n",
    "    symbol_total_data.to_csv(save_path)"
   ]
  },
  {
   "cell_type": "markdown",
   "metadata": {},
   "source": [
    "premiumindexklines"
   ]
  },
  {
   "cell_type": "code",
   "execution_count": 112,
   "metadata": {},
   "outputs": [],
   "source": [
    "import os\n",
    "import pandas as pd\n",
    "import json\n",
    "\n",
    "database_path = '/Users/tedting/Documents/FactorTradingSystem/data_m/'\n",
    "data_type = 'premiumindexklines/5m'\n",
    "\n",
    "folder_path = os.path.join(database_path, data_type)\n",
    "\n",
    "for symbol in futures_symbol_list:\n",
    "    file_path = os.path.join(folder_path, symbol)\n",
    "    symbol_total_data = pd.DataFrame()\n",
    "    for filename in os.listdir(file_path):\n",
    "        data_path = os.path.join(file_path, filename)\n",
    "        df = pd.read_csv(data_path)\n",
    "        if df.columns[0] != 'open_time':\n",
    "            df = pd.read_csv(data_path, header=None)\n",
    "            column_names = ['open_time', 'open', 'high', 'low', 'close', 'volume', 'close_time', 'quote_volume', 'count', 'taker_buy_volume', 'taker_buy_quote_volume', 'ignore']\n",
    "            df.columns = column_names  \n",
    "        df = df.drop(['volume', 'close_time', 'quote_volume', 'count', 'taker_buy_volume', 'taker_buy_quote_volume', 'ignore'],axis =1)\n",
    "        df.rename(columns={'open_time': 'datetime', 'open': 'premium_open', 'high': 'premium_high', 'low': 'premium_low', 'close': 'premium_close'}, inplace=True)\n",
    "        symbol_total_data = pd.concat([symbol_total_data, df],ignore_index=True, axis = 0)\n",
    "\n",
    "    symbol_total_data = symbol_total_data.sort_values(by='datetime')\n",
    "    symbol_total_data['datetime'] = pd.to_datetime(symbol_total_data['datetime'], unit='ms')\n",
    "    symbol_total_data.set_index('datetime', inplace=True)\n",
    "    symbol_total_data = symbol_total_data.shift(1)\n",
    "    save_folder_path = os.path.join(database_path, 'factor', data_type)\n",
    "    os.makedirs(save_folder_path, exist_ok=True)\n",
    "    save_path = os.path.join(save_folder_path, f'{symbol}.csv')\n",
    "    symbol_total_data.to_csv(save_path)"
   ]
  },
  {
   "cell_type": "markdown",
   "metadata": {},
   "source": [
    "### make all become factor"
   ]
  },
  {
   "cell_type": "code",
   "execution_count": 139,
   "metadata": {},
   "outputs": [],
   "source": [
    "indexpriceklines_path = '/Users/tedting/Documents/FactorTradingSystem/data_m/factor/indexpriceklines/5m'\n",
    "klines_path = '/Users/tedting/Documents/FactorTradingSystem/data_m/factor/klines/5m'\n",
    "markpriceklines_path = '/Users/tedting/Documents/FactorTradingSystem/data_m/factor/markpriceklines/5m'\n",
    "metrics_path = '/Users/tedting/Documents/FactorTradingSystem/data_m/factor/metrics'\n",
    "premiumindexklines_path = '/Users/tedting/Documents/FactorTradingSystem/data_m/factor/premiumindexklines/5m'\n",
    "\n",
    "data_type_path_list = [indexpriceklines_path, klines_path, markpriceklines_path, metrics_path, premiumindexklines_path]"
   ]
  },
  {
   "cell_type": "markdown",
   "metadata": {},
   "source": [
    "by_crypto"
   ]
  },
  {
   "cell_type": "code",
   "execution_count": 140,
   "metadata": {},
   "outputs": [],
   "source": [
    "for symbol in futures_symbol_list:\n",
    "    total_factor_df = pd.DataFrame()\n",
    "    for data_type_path in data_type_path_list:\n",
    "        csv_path = os.path.join(data_type_path, f'{symbol}.csv')\n",
    "        df = pd.read_csv(csv_path, index_col=0, parse_dates= True)\n",
    "        total_factor_df = pd.concat([total_factor_df, df], axis =1)\n",
    "    total_factor_df  = total_factor_df.dropna(axis=0)\n",
    "    save_folder_path = os.path.join(database_path, 'factor', 'by_crypto')\n",
    "    os.makedirs(save_folder_path, exist_ok=True)\n",
    "    save_path = os.path.join(save_folder_path, f'{symbol}.csv')\n",
    "    total_factor_df.to_csv(save_path)"
   ]
  },
  {
   "cell_type": "markdown",
   "metadata": {},
   "source": [
    "# by_factor"
   ]
  },
  {
   "cell_type": "code",
   "execution_count": 142,
   "metadata": {},
   "outputs": [],
   "source": [
    "factor_list = list(total_factor_df.columns)"
   ]
  },
  {
   "cell_type": "code",
   "execution_count": 149,
   "metadata": {},
   "outputs": [],
   "source": [
    "import pandas as pd\n",
    "from datetime import datetime, timedelta\n",
    "\n",
    "today = datetime.now().date()\n",
    "\n",
    "# 获取昨天的日期\n",
    "yesterday = today - timedelta(days=1)\n",
    "date_range = pd.date_range(start='2020-01-01', end=yesterday, freq='5T')\n",
    "\n",
    "for factor in factor_list:\n",
    "    factor_df = pd.DataFrame(index=date_range)\n",
    "    for symbol in futures_symbol_list:\n",
    "        csv_path = os.path.join('/Users/tedting/Documents/FactorTradingSystem/data_m/factor/by_crypto', f'{symbol}.csv')\n",
    "        df = pd.read_csv(csv_path, index_col=0, parse_dates=True)\n",
    "        factor_df[symbol] = df[factor]\n",
    "    factor_df.dropna(axis=0, inplace=True)\n",
    "    \n",
    "    save_folder_path = os.path.join(database_path, 'factor', 'by_factor')\n",
    "    os.makedirs(save_folder_path, exist_ok=True)\n",
    "\n",
    "    save_path = os.path.join(save_folder_path, f'{factor}.csv')\n",
    "    factor_df.to_csv(save_path)\n",
    "    "
   ]
  },
  {
   "cell_type": "code",
   "execution_count": null,
   "metadata": {},
   "outputs": [],
   "source": []
  }
 ],
 "metadata": {
  "kernelspec": {
   "display_name": "quant311",
   "language": "python",
   "name": "python3"
  },
  "language_info": {
   "codemirror_mode": {
    "name": "ipython",
    "version": 3
   },
   "file_extension": ".py",
   "mimetype": "text/x-python",
   "name": "python",
   "nbconvert_exporter": "python",
   "pygments_lexer": "ipython3",
   "version": "3.11.5"
  }
 },
 "nbformat": 4,
 "nbformat_minor": 2
}
